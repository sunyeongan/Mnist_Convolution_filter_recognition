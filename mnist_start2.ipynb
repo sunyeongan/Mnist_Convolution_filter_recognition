{
 "cells": [
  {
   "cell_type": "code",
   "execution_count": 1,
   "metadata": {},
   "outputs": [],
   "source": [
    "import numpy as np ,cv2\n",
    "import matplotlib.pyplot as plt\n",
    "import tensorflow as tf\n",
    "from PIL import Image"
   ]
  },
  {
   "cell_type": "code",
   "execution_count": 2,
   "metadata": {},
   "outputs": [
    {
     "name": "stdout",
     "output_type": "stream",
     "text": [
      "(60000, 28, 28) (60000,)\n",
      "(10000, 28, 28) (10000,)\n"
     ]
    }
   ],
   "source": [
    "# 1. 데이터셋 생성\n",
    "mnist = tf.keras.datasets.mnist #mnist 데이터 읽어오기 \n",
    "(x_train,y_train),(x_test,y_test) = mnist.load_data()\n",
    "x_train, x_test = x_train / 255.0, x_test / 255.0\n",
    "# mnist 이미지는 픽셀값이 0과 1 사이로 정규화 되어있다.\n",
    "#사진을 읽어오면 컬러기준으로 최대 (255,255,255) 형태로 가져오는데 여기에 255를 나누어 mnist\n",
    "#데이터 처럼 0,1의 값을 가지게 만들어 정규화 시킨다 \n",
    "\n",
    "print(x_train.shape, y_train.shape) #train : 6000장이 28*28크기로 다운로드 된다 \n",
    "print(x_test.shape, y_test.shape) # test :  10000장이 28*28크기로 다운로드 된다\n"
   ]
  },
  {
   "cell_type": "code",
   "execution_count": 3,
   "metadata": {},
   "outputs": [],
   "source": [
    "# 2. 모델 구성하기\n",
    "\n",
    "model = tf.keras.models.Sequential([\n",
    "    tf.keras.layers.Flatten(),\n",
    "    tf.keras.layers.Dense(512,activation=tf.nn.relu),\n",
    "    tf.keras.layers.Dropout(0.2),\n",
    "    tf.keras.layers.Dense(10,activation=tf.nn.softmax)\n",
    "])\n"
   ]
  },
  {
   "cell_type": "code",
   "execution_count": 4,
   "metadata": {},
   "outputs": [
    {
     "name": "stdout",
     "output_type": "stream",
     "text": [
      "Epoch 1/5\n",
      "1875/1875 [==============================] - 2s 1ms/step - loss: 0.3641 - accuracy: 0.8917\n",
      "Epoch 2/5\n",
      "1875/1875 [==============================] - 2s 1ms/step - loss: 0.1068 - accuracy: 0.9677\n",
      "Epoch 3/5\n",
      "1875/1875 [==============================] - 2s 1ms/step - loss: 0.0675 - accuracy: 0.9789\n",
      "Epoch 4/5\n",
      "1875/1875 [==============================] - 2s 1ms/step - loss: 0.0516 - accuracy: 0.9830\n",
      "Epoch 5/5\n",
      "1875/1875 [==============================] - 2s 1ms/step - loss: 0.0405 - accuracy: 0.9862\n",
      "313/313 [==============================] - 0s 553us/step - loss: 0.0741 - accuracy: 0.9772\n"
     ]
    }
   ],
   "source": [
    "# 3. 모델 학습과정 설정하기 \n",
    "\n",
    "#옵티마이저와 손실함수를 설정 정확도 매트릭스가 나오도록 컴파일\n",
    "model.compile(optimizer ='adam',\n",
    "              loss ='sparse_categorical_crossentropy',\n",
    "              metrics=['accuracy'])\n",
    "model.fit(x_train,y_train, epochs=5) #위의 레이어를 가진 모델로 5번 학습시킨다\n",
    "score = model.evaluate(x_test,y_test)"
   ]
  },
  {
   "cell_type": "code",
   "execution_count": 5,
   "metadata": {},
   "outputs": [
    {
     "name": "stdout",
     "output_type": "stream",
     "text": [
      "Epoch 1/10\n",
      "1875/1875 [==============================] - 2s 1ms/step - loss: 0.0363 - accuracy: 0.9878\n",
      "Epoch 2/10\n",
      "1875/1875 [==============================] - 2s 1ms/step - loss: 0.0318 - accuracy: 0.9892\n",
      "Epoch 3/10\n",
      "1875/1875 [==============================] - 2s 1ms/step - loss: 0.0273 - accuracy: 0.9907\n",
      "Epoch 4/10\n",
      "1875/1875 [==============================] - 2s 1ms/step - loss: 0.0241 - accuracy: 0.9919\n",
      "Epoch 5/10\n",
      "1875/1875 [==============================] - 2s 1ms/step - loss: 0.0232 - accuracy: 0.9921\n",
      "Epoch 6/10\n",
      "1875/1875 [==============================] - 2s 1ms/step - loss: 0.0219 - accuracy: 0.9928\n",
      "Epoch 7/10\n",
      "1875/1875 [==============================] - 2s 1ms/step - loss: 0.0178 - accuracy: 0.9941\n",
      "Epoch 8/10\n",
      "1875/1875 [==============================] - 2s 1ms/step - loss: 0.0178 - accuracy: 0.9939\n",
      "Epoch 9/10\n",
      "1875/1875 [==============================] - 2s 1ms/step - loss: 0.0182 - accuracy: 0.9937\n",
      "Epoch 10/10\n",
      "1875/1875 [==============================] - 2s 1ms/step - loss: 0.0162 - accuracy: 0.9945\n",
      "313/313 [==============================] - 0s 549us/step - loss: 0.0777 - accuracy: 0.9809\n"
     ]
    }
   ],
   "source": [
    "# 4. 모델 학습시키기\n",
    "model.fit(x_train,y_train, epochs=10) #training epoch 10 55,000 * 10개의 데이터를 학습\n",
    "# 5. 모델 평가\n",
    "score = model.evaluate(x_test,y_test)"
   ]
  },
  {
   "cell_type": "code",
   "execution_count": 6,
   "metadata": {},
   "outputs": [
    {
     "data": {
      "text/plain": [
       "(28, 28)"
      ]
     },
     "execution_count": 6,
     "metadata": {},
     "output_type": "execute_result"
    },
    {
     "data": {
      "image/png": "[encoded data removed]",
      "text/plain": [
       "<Figure size 432x288 with 1 Axes>"
      ]
     },
     "metadata": {
      "needs_background": "light"
     },
     "output_type": "display_data"
    }
   ],
   "source": [
    "src = cv2.imread(\"./OutputImage/my_save_0.jpg\",cv2.IMREAD_GRAYSCALE)\n",
    "plt.title('original image')\n",
    "plt.imshow(src,cmap = 'gray')\n",
    "src.shape"
   ]
  },
  {
   "cell_type": "code",
   "execution_count": 7,
   "metadata": {},
   "outputs": [
    {
     "data": {
      "text/plain": [
       "(28, 28)"
      ]
     },
     "execution_count": 7,
     "metadata": {},
     "output_type": "execute_result"
    },
    {
     "data": {
      "image/png": "[encoded data removed]",
      "text/plain": [
       "<Figure size 432x288 with 1 Axes>"
      ]
     },
     "metadata": {
      "needs_background": "light"
     },
     "output_type": "display_data"
    }
   ],
   "source": [
    "count = 0 \n",
    "src = cv2.imread(\"./OutputImage/my_save_0.jpg\",cv2.IMREAD_GRAYSCALE)\n",
    "\n",
    "ret , binary = cv2.threshold(src,190,255,cv2.THRESH_BINARY_INV)\n",
    "myNum = np.asarray(cv2.resize(binary, dsize=(28, 28), interpolation=cv2.INTER_AREA))/255\n",
    "\n",
    "plt.title('original image')\n",
    "plt.imshow(myNum,cmap = 'gray')\n",
    "count +=1\n",
    "myNum.shape#input 시 들어온 사진 크기 "
   ]
  },
  {
   "cell_type": "code",
   "execution_count": 8,
   "metadata": {},
   "outputs": [],
   "source": [
    "test_num = myNum.flatten() / 255.0\n",
    "test_num = test_num.reshape((-1,28,28,1))"
   ]
  },
  {
   "cell_type": "code",
   "execution_count": 9,
   "metadata": {},
   "outputs": [
    {
     "name": "stdout",
     "output_type": "stream",
     "text": [
      "The answer is  [5]\n"
     ]
    },
    {
     "name": "stderr",
     "output_type": "stream",
     "text": [
      "/opt/anaconda3/lib/python3.8/site-packages/tensorflow/python/keras/engine/sequential.py:450: UserWarning: `model.predict_classes()` is deprecated and will be removed after 2021-01-01. Please use instead:* `np.argmax(model.predict(x), axis=-1)`,   if your model does multi-class classification   (e.g. if it uses a `softmax` last-layer activation).* `(model.predict(x) > 0.5).astype(\"int32\")`,   if your model does binary classification   (e.g. if it uses a `sigmoid` last-layer activation).\n",
      "  warnings.warn('`model.predict_classes()` is deprecated and '\n"
     ]
    }
   ],
   "source": [
    "print('The answer is ', model.predict_classes(test_num))"
   ]
  },
  {
   "cell_type": "code",
   "execution_count": 10,
   "metadata": {},
   "outputs": [
    {
     "data": {
      "text/plain": [
       "(28, 28)"
      ]
     },
     "execution_count": 10,
     "metadata": {},
     "output_type": "execute_result"
    },
    {
     "data": {
      "image/png": "[encoded data removed]",
      "text/plain": [
       "<Figure size 432x288 with 1 Axes>"
      ]
     },
     "metadata": {
      "needs_background": "light"
     },
     "output_type": "display_data"
    }
   ],
   "source": [
    "count = 0 \n",
    "src = cv2.imread(\"./OutputImage/bluring_0.jpg\",cv2.IMREAD_GRAYSCALE)\n",
    "\n",
    "ret , binary = cv2.threshold(src,190,255,cv2.THRESH_BINARY_INV)\n",
    "myNum = np.asarray(cv2.resize(binary, dsize=(28, 28), interpolation=cv2.INTER_AREA))/255\n",
    "plt.title(\"bluring image\")\n",
    "plt.imshow(myNum,cmap='gray')\n",
    "count +=1\n",
    "myNum.shape\n"
   ]
  },
  {
   "cell_type": "code",
   "execution_count": 11,
   "metadata": {},
   "outputs": [],
   "source": [
    "#gray2 = cv2.resize(255-gray2,(28,28))\n",
    "test_num = myNum.flatten() / 255.0\n",
    "test_num = test_num.reshape((-1,28,28,1))"
   ]
  },
  {
   "cell_type": "code",
   "execution_count": 12,
   "metadata": {},
   "outputs": [
    {
     "name": "stdout",
     "output_type": "stream",
     "text": [
      "The answer is  [5]\n"
     ]
    }
   ],
   "source": [
    "print('The answer is ', model.predict_classes(test_num))"
   ]
  },
  {
   "cell_type": "code",
   "execution_count": 13,
   "metadata": {},
   "outputs": [
    {
     "data": {
      "text/plain": [
       "(28, 28)"
      ]
     },
     "execution_count": 13,
     "metadata": {},
     "output_type": "execute_result"
    },
    {
     "data": {
      "image/png": "[encoded data removed]",
      "text/plain": [
       "<Figure size 432x288 with 1 Axes>"
      ]
     },
     "metadata": {
      "needs_background": "light"
     },
     "output_type": "display_data"
    }
   ],
   "source": [
    "count = 0 \n",
    "src = cv2.imread(\"./OutputImage/sharp_0.jpg\",cv2.IMREAD_GRAYSCALE)\n",
    "\n",
    "ret , binary = cv2.threshold(src,190,255,cv2.THRESH_BINARY_INV)\n",
    "myNum = np.asarray(cv2.resize(binary, dsize=(28, 28), interpolation=cv2.INTER_AREA))/255\n",
    "\n",
    "plt.title(\"sharp image\")\n",
    "plt.imshow(myNum,cmap='gray')\n",
    "count +=1\n",
    "myNum.shape\n"
   ]
  },
  {
   "cell_type": "code",
   "execution_count": 14,
   "metadata": {},
   "outputs": [],
   "source": [
    "#gray3 = cv2.resize(255-gray3,(28,28))\n",
    "test_num = myNum.flatten() / 255.0\n",
    "test_num = test_num.reshape((-1,28,28,1))"
   ]
  },
  {
   "cell_type": "code",
   "execution_count": 15,
   "metadata": {},
   "outputs": [
    {
     "name": "stdout",
     "output_type": "stream",
     "text": [
      "The answer is  [5]\n"
     ]
    }
   ],
   "source": [
    "print('The answer is ', model.predict_classes(test_num))"
   ]
  },
  {
   "cell_type": "code",
   "execution_count": 16,
   "metadata": {},
   "outputs": [
    {
     "data": {
      "text/plain": [
       "(28, 28)"
      ]
     },
     "execution_count": 16,
     "metadata": {},
     "output_type": "execute_result"
    },
    {
     "data": {
      "image/png": "[encoded data removed]",
      "text/plain": [
       "<Figure size 432x288 with 1 Axes>"
      ]
     },
     "metadata": {
      "needs_background": "light"
     },
     "output_type": "display_data"
    }
   ],
   "source": [
    "\n",
    "src = cv2.imread(\"./OutputImage/gaussian_blur_0.jpg\",cv2.IMREAD_GRAYSCALE)\n",
    "\n",
    "ret , binary = cv2.threshold(src,190,255,cv2.THRESH_BINARY_INV)\n",
    "myNum = np.asarray(cv2.resize(binary, dsize=(28, 28), interpolation=cv2.INTER_AREA))/255\n",
    "\n",
    "plt.title(\"gaussian_blur image\")\n",
    "plt.imshow(myNum,cmap='gray')\n",
    "\n",
    "myNum.shape\n"
   ]
  },
  {
   "cell_type": "code",
   "execution_count": 17,
   "metadata": {},
   "outputs": [],
   "source": [
    "#gray2 = cv2.resize(255-gray2,(28,28))\n",
    "test_num = myNum.flatten() / 255.0\n",
    "test_num = test_num.reshape((-1,28,28,1))"
   ]
  },
  {
   "cell_type": "code",
   "execution_count": 18,
   "metadata": {},
   "outputs": [
    {
     "name": "stdout",
     "output_type": "stream",
     "text": [
      "The answer is  [5]\n"
     ]
    }
   ],
   "source": [
    "print('The answer is ', model.predict_classes(test_num))"
   ]
  },
  {
   "cell_type": "code",
   "execution_count": 19,
   "metadata": {},
   "outputs": [
    {
     "data": {
      "text/plain": [
       "(28, 28)"
      ]
     },
     "execution_count": 19,
     "metadata": {},
     "output_type": "execute_result"
    },
    {
     "data": {
      "image/png": "[encoded data removed]",
      "text/plain": [
       "<Figure size 432x288 with 1 Axes>"
      ]
     },
     "metadata": {
      "needs_background": "light"
     },
     "output_type": "display_data"
    }
   ],
   "source": [
    "\n",
    "src = cv2.imread(\"./OutputImage/canny_0.jpg\",cv2.IMREAD_GRAYSCALE)\n",
    "\n",
    "ret , binary = cv2.threshold(src,190,255,cv2.THRESH_BINARY_INV)\n",
    "myNum = np.asarray(cv2.resize(binary, dsize=(28, 28), interpolation=cv2.INTER_AREA))/255\n",
    "\n",
    "plt.imshow(myNum,cmap='gray')\n",
    "plt.title(\"Canny Edge image\")\n",
    "myNum.shape\n"
   ]
  },
  {
   "cell_type": "code",
   "execution_count": 20,
   "metadata": {},
   "outputs": [],
   "source": [
    "#gray2 = cv2.resize(255-gray2,(28,28))\n",
    "test_num = myNum.flatten() / 255.0\n",
    "test_num = test_num.reshape((-1,28,28,1))"
   ]
  },
  {
   "cell_type": "code",
   "execution_count": 21,
   "metadata": {},
   "outputs": [
    {
     "name": "stdout",
     "output_type": "stream",
     "text": [
      "The answer is  [5]\n"
     ]
    }
   ],
   "source": [
    "print('The answer is ', model.predict_classes(test_num))"
   ]
  },
  {
   "cell_type": "code",
   "execution_count": null,
   "metadata": {},
   "outputs": [],
   "source": []
  }
 ],
 "metadata": {
  "kernelspec": {
   "display_name": "Python 3",
   "language": "python",
   "name": "python3"
  },
  "language_info": {
   "codemirror_mode": {
    "name": "ipython",
    "version": 3
   },
   "file_extension": ".py",
   "mimetype": "text/x-python",
   "name": "python",
   "nbconvert_exporter": "python",
   "pygments_lexer": "ipython3",
   "version": "3.8.5"
  }
 },
 "nbformat": 4,
 "nbformat_minor": 4
}
